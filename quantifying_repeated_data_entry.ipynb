{
 "cells": [
  {
   "cell_type": "markdown",
   "metadata": {},
   "source": [
    "# Can we use Claude to extract all the fields from a form\n",
    "\n",
    "Based on the idea from here: \n",
    "https://github.com/co-cddo/form-extractor-prototype_testing/tree/main\n",
    "\n",
    "Yes we can."
   ]
  },
  {
   "cell_type": "code",
   "execution_count": 1,
   "metadata": {},
   "outputs": [],
   "source": [
    "import base64\n",
    "import io\n",
    "import json\n",
    "from ast import List\n",
    "from pathlib import Path\n",
    "\n",
    "import boto3\n",
    "from anthropic import AnthropicBedrock\n",
    "from anthropic.types.message import Message\n",
    "from anthropic.types.tool_use_block import ToolUseBlock\n",
    "from dotenv import load_dotenv\n",
    "from pdf2image import convert_from_path\n",
    "from PIL import Image\n",
    "\n",
    "\n",
    "def encode_image(byte_array):\n",
    "    \"\"\"encode image for claude\"\"\"\n",
    "    return base64.b64encode(byte_array).decode(\"utf-8\")\n",
    "\n",
    "\n",
    "def pdf_to_image_bytes(pdf_path: Path, width: int = 600, dpi: int = 300):\n",
    "    \"\"\"\n",
    "    Convert a multipage PDF to a list of bytes of JPEG images.\n",
    "\n",
    "    :param pdf_path: str, path to the PDF file\n",
    "    :param width: int, desired width of the output images (aspect ratio maintained)\n",
    "    :param dpi: int, dots per inch for rendering the PDF\n",
    "    :return: list of bytes, each element is a JPEG image\n",
    "    \"\"\"\n",
    "    # Convert PDF to list of PIL Image objects\n",
    "    images = convert_from_path(pdf_path, dpi=dpi)\n",
    "\n",
    "    image_bytes_list = []\n",
    "\n",
    "    for img in images:\n",
    "        # Resize image if width is specified\n",
    "        if width:\n",
    "            ratio = width / float(img.width)\n",
    "            height = int(ratio * img.height)\n",
    "            img = img.resize((width, height), Image.LANCZOS)\n",
    "\n",
    "        # Convert PIL Image to bytes\n",
    "        img_byte_arr = io.BytesIO()\n",
    "        img.save(img_byte_arr, format=\"JPEG\")\n",
    "        img_byte_arr = img_byte_arr.getvalue()\n",
    "\n",
    "        image_bytes_list.append(img_byte_arr)\n",
    "\n",
    "    return image_bytes_list\n"
   ]
  },
  {
   "cell_type": "code",
   "execution_count": 2,
   "metadata": {},
   "outputs": [],
   "source": [
    "load_dotenv()\n",
    "boto3.setup_default_session()\n",
    "client = AnthropicBedrock()\n",
    "\n",
    "base_prompt = \"\"\"\n",
    "Is this a form? Answer Yes or No. \n",
    "It's only a form if it contains form field boxes.\n",
    "Hand drawn forms, questionnaires and surveys are all valid forms.\n",
    "If it is a form, extract the questions from it using the extract_form_questions tool.\n",
    "If there is no output, explain why.\n",
    "\"\"\"\n",
    "\n",
    "# Read the JSON string from the file\n",
    "with open(\"extract-form-questions.json\", \"r\") as file:\n",
    "    json_string = file.read()\n",
    "\n",
    "extraction_tool = json.loads(json_string)\n",
    "\n",
    "\n",
    "def process_form(image_bytes: List) -> Message:\n",
    "    assert isinstance(\n",
    "        image_bytes, list\n",
    "    ), f\"Input must be a list, {type(image_bytes)} received\"\n",
    "\n",
    "    assert (\n",
    "        len(image_bytes) < 20\n",
    "    ), f\"Can only process forms up to 20 pages, you gave {len(image_bytes)}\"\n",
    "\n",
    "    messages = [\n",
    "        {\n",
    "            \"type\": \"image\",\n",
    "            \"source\": {\n",
    "                \"type\": \"base64\",\n",
    "                \"media_type\": \"image/jpeg\",\n",
    "                \"data\": encode_image(img),\n",
    "            },\n",
    "        }\n",
    "        for img in image_bytes\n",
    "    ] + [{\"type\": \"text\", \"text\": base_prompt}]\n",
    "\n",
    "    response = client.messages.create(\n",
    "        model=\"anthropic.claude-3-5-sonnet-20240620-v1:0\",\n",
    "        temperature=0.01,\n",
    "        max_tokens=5000,\n",
    "        tools=[extraction_tool],\n",
    "        messages=[{\"role\": \"user\", \"content\": messages}],\n",
    "    )\n",
    "    return response\n"
   ]
  },
  {
   "cell_type": "code",
   "execution_count": 3,
   "metadata": {},
   "outputs": [],
   "source": [
    "def contains_tool_response(response):\n",
    "    \"\"\"determine if the tool was used\"\"\"\n",
    "    return (\n",
    "        isinstance(response.content[1], ToolUseBlock)\n",
    "        if len(response.content) > 1\n",
    "        else False\n",
    "    )\n",
    "\n",
    "\n",
    "def check_tool_response(tool_block):\n",
    "    \"\"\"Determine if the tool block is valid if it has a pages field\"\"\"\n",
    "    return True if tool_block.input.get(\"pages\", False) else False\n",
    "\n",
    "\n"
   ]
  },
  {
   "cell_type": "code",
   "execution_count": 4,
   "metadata": {},
   "outputs": [],
   "source": [
    "# image_bytes = pdf_to_image_bytes(\"sample_forms/not_a_form.pdf\", width=800, dpi=300)\n",
    "# not_a_response = process_form(image_bytes)\n",
    "# # not_a_response"
   ]
  },
  {
   "cell_type": "code",
   "execution_count": 5,
   "metadata": {},
   "outputs": [],
   "source": [
    "# image_bytes = pdf_to_image_bytes(\"sample_forms/example_form.pdf\", width=800, dpi=300)\n",
    "# a_response = process_form(image_bytes)\n",
    "# a_response\n"
   ]
  },
  {
   "cell_type": "markdown",
   "metadata": {},
   "source": [
    "## Processing a lot of forms\n"
   ]
  },
  {
   "cell_type": "code",
   "execution_count": 6,
   "metadata": {},
   "outputs": [
    {
     "name": "stdout",
     "output_type": "stream",
     "text": [
      "There are 8300 file and 5943 pdfs.\n"
     ]
    }
   ],
   "source": [
    "from pathlib import Path\n",
    "\n",
    "def get_all_files(folder_path):\n",
    "    folder = Path(folder_path)\n",
    "    return [str(file) for file in folder.rglob('*') if file.is_file()]\n",
    "\n",
    "\n",
    "folder_path = './forms_scrape'\n",
    "all_files = get_all_files(folder_path)\n",
    "\n",
    "pdf_files = [file for file in all_files if file.lower().endswith('.pdf')]\n",
    "\n",
    "print(f\"There are {len(all_files)} file and {len(pdf_files)} pdfs.\")\n",
    "\n"
   ]
  },
  {
   "cell_type": "code",
   "execution_count": 7,
   "metadata": {},
   "outputs": [],
   "source": [
    "import random \n",
    "sample_forms = random.sample(pdf_files, 10)"
   ]
  },
  {
   "cell_type": "code",
   "execution_count": 8,
   "metadata": {},
   "outputs": [],
   "source": [
    "encoded_form = [pdf_to_image_bytes(form, width=800, dpi=300) for form in sample_forms]"
   ]
  },
  {
   "cell_type": "code",
   "execution_count": 9,
   "metadata": {},
   "outputs": [
    {
     "name": "stdout",
     "output_type": "stream",
     "text": [
      "{file} file was not a form.\n"
     ]
    }
   ],
   "source": [
    "processed_forms = {}\n",
    "\n",
    "for img, file in zip(encoded_form, sample_forms):\n",
    "    response = process_form(img)\n",
    "    if not contains_tool_response(response):\n",
    "        print(\"f{file} file was not a form.\")\n",
    "        break\n",
    "    tool_response = response.content[1]\n",
    "    if not check_tool_response(tool_response):\n",
    "        print(\"f{file} file was a form, but was an invalid response\")\n",
    "        break\n",
    "\n",
    "    process_formed[file] = tool_response.input"
   ]
  }
 ],
 "metadata": {
  "kernelspec": {
   "display_name": "form-experiment",
   "language": "python",
   "name": "python3"
  },
  "language_info": {
   "codemirror_mode": {
    "name": "ipython",
    "version": 3
   },
   "file_extension": ".py",
   "mimetype": "text/x-python",
   "name": "python",
   "nbconvert_exporter": "python",
   "pygments_lexer": "ipython3",
   "version": "3.12.4"
  }
 },
 "nbformat": 4,
 "nbformat_minor": 2
}
