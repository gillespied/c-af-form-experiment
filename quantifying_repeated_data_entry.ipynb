{
 "cells": [
  {
   "cell_type": "markdown",
   "metadata": {},
   "source": [
    "# Can we use Claude to extract all the fields from a form\n",
    "\n",
    "Based on the idea from here: \n",
    "https://github.com/co-cddo/form-extractor-prototype_testing/tree/main\n",
    "\n",
    "Yes we can."
   ]
  },
  {
   "cell_type": "code",
   "execution_count": 1,
   "metadata": {},
   "outputs": [],
   "source": [
    "%load_ext autoreload\n",
    "%autoreload 2\n",
    "\n",
    "import json\n",
    "import logging\n",
    "\n",
    "import boto3\n",
    "import nest_asyncio\n",
    "import pandas as pd\n",
    "from anthropic import AsyncAnthropicBedrock\n",
    "from dotenv import load_dotenv\n",
    "\n",
    "from form_processor import (\n",
    "    compute_total,\n",
    "    get_list_of_file_paths,\n",
    "    load_batch_results,\n",
    "    run_form_processing,\n",
    "    test_client,\n",
    ")\n",
    "\n",
    "logging.basicConfig(\n",
    "    filename=\"form_processing.log\",\n",
    "    level=logging.INFO,  # Adjust the level as needed (e.g., INFO, DEBUG, WARNING, ERROR, CRITICAL)\n",
    "    format=\"%(asctime)s - %(levelname)s - %(message)s\",\n",
    "    filemode=\"a\",  # 'a' for append mode, 'w' for overwrite mode\n",
    ")\n",
    "logging.info(\"Setup log\")"
   ]
  },
  {
   "cell_type": "code",
   "execution_count": 2,
   "metadata": {},
   "outputs": [
    {
     "data": {
      "text/plain": [
       "True"
      ]
     },
     "execution_count": 2,
     "metadata": {},
     "output_type": "execute_result"
    }
   ],
   "source": [
    "logging.info(\"Intitiating log\")\n",
    "\n",
    "load_dotenv()\n",
    "\n",
    "nest_asyncio.apply()\n",
    "\n",
    "boto3.setup_default_session()\n",
    "client = AsyncAnthropicBedrock()\n",
    "await test_client(client)\n"
   ]
  },
  {
   "cell_type": "code",
   "execution_count": 3,
   "metadata": {},
   "outputs": [
    {
     "name": "stdout",
     "output_type": "stream",
     "text": [
      "Processing forms. Check 'form_processing.log' for detailed logs.\n"
     ]
    },
    {
     "name": "stderr",
     "output_type": "stream",
     "text": [
      "Processing Forms: 100%|██████████| 4/4 [01:05<00:00, 16.39s/form]"
     ]
    },
    {
     "name": "stdout",
     "output_type": "stream",
     "text": [
      "Processed 4 forms\n"
     ]
    },
    {
     "name": "stderr",
     "output_type": "stream",
     "text": [
      "\n"
     ]
    }
   ],
   "source": [
    "\n",
    "with open(\"extract-form-questions.json\", \"r\") as file:\n",
    "    json_string = file.read()\n",
    "\n",
    "extraction_tool = json.loads(json_string)\n",
    "\n",
    "folder_path = \"sample_forms\"\n",
    "pdf_files = get_list_of_file_paths(folder_path)\n",
    "\n",
    "folder_path = \"sample_forms\"\n",
    "results = run_form_processing(\n",
    "    pdf_files=pdf_files,\n",
    "    client=client,\n",
    "    extraction_tool=extraction_tool,\n",
    "    batch_size=10,\n",
    "    max_concurrent=10,\n",
    "    results_file=\"test_folder.pickle\",\n",
    ")\n",
    "\n"
   ]
  },
  {
   "cell_type": "code",
   "execution_count": 4,
   "metadata": {},
   "outputs": [],
   "source": [
    "results = load_batch_results(\"test_folder.pickle\")"
   ]
  },
  {
   "cell_type": "code",
   "execution_count": 5,
   "metadata": {},
   "outputs": [
    {
     "ename": "NameError",
     "evalue": "name 'pd' is not defined",
     "output_type": "error",
     "traceback": [
      "\u001b[0;31m---------------------------------------------------------------------------\u001b[0m",
      "\u001b[0;31mNameError\u001b[0m                                 Traceback (most recent call last)",
      "Cell \u001b[0;32mIn[5], line 1\u001b[0m\n\u001b[0;32m----> 1\u001b[0m results_df \u001b[38;5;241m=\u001b[39m \u001b[43mpd\u001b[49m\u001b[38;5;241m.\u001b[39mDataFrame\u001b[38;5;241m.\u001b[39mfrom_dict(results, orient\u001b[38;5;241m=\u001b[39m\u001b[38;5;124m\"\u001b[39m\u001b[38;5;124mindex\u001b[39m\u001b[38;5;124m\"\u001b[39m)\n",
      "\u001b[0;31mNameError\u001b[0m: name 'pd' is not defined"
     ]
    }
   ],
   "source": [
    "results_df = pd.DataFrame.from_dict(results, orient=\"index\")"
   ]
  },
  {
   "cell_type": "code",
   "execution_count": null,
   "metadata": {},
   "outputs": [],
   "source": [
    "compute_total(results_df)\n"
   ]
  },
  {
   "cell_type": "code",
   "execution_count": null,
   "metadata": {},
   "outputs": [],
   "source": [
    "# TODO modify the method so it can take a list of files"
   ]
  }
 ],
 "metadata": {
  "kernelspec": {
   "display_name": "form-experiment",
   "language": "python",
   "name": "python3"
  },
  "language_info": {
   "codemirror_mode": {
    "name": "ipython",
    "version": 3
   },
   "file_extension": ".py",
   "mimetype": "text/x-python",
   "name": "python",
   "nbconvert_exporter": "python",
   "pygments_lexer": "ipython3",
   "version": "3.12.4"
  }
 },
 "nbformat": 4,
 "nbformat_minor": 2
}
