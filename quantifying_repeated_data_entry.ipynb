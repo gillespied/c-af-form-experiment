{
 "cells": [
  {
   "cell_type": "markdown",
   "metadata": {},
   "source": [
    "# Can we use Claude to extract all the fields from a form\n",
    "\n",
    "Based on the idea from here: \n",
    "https://github.com/co-cddo/form-extractor-prototype_testing/tree/main\n",
    "\n",
    "Yes we can."
   ]
  },
  {
   "cell_type": "code",
   "execution_count": 1,
   "metadata": {},
   "outputs": [],
   "source": [
    "import base64\n",
    "import io\n",
    "import json\n",
    "from ast import List\n",
    "from pathlib import Path\n",
    "\n",
    "import boto3\n",
    "from anthropic import AnthropicBedrock\n",
    "from anthropic.types.message import Message\n",
    "from anthropic.types.tool_use_block import ToolUseBlock\n",
    "from dotenv import load_dotenv\n",
    "from pdf2image import convert_from_path\n",
    "from PIL import Image\n",
    "\n",
    "\n",
    "def encode_image(byte_array):\n",
    "    \"\"\"encode image for claude\"\"\"\n",
    "    return (base64.b64encode(byte_array).decode(\"utf-8\"),)\n",
    "\n",
    "\n",
    "def pdf_to_image_bytes(pdf_path: Path, width: int = 600, dpi: int = 300):\n",
    "    \"\"\"\n",
    "    Convert a multipage PDF to a list of bytes of JPEG images.\n",
    "\n",
    "    :param pdf_path: str, path to the PDF file\n",
    "    :param width: int, desired width of the output images (aspect ratio maintained)\n",
    "    :param dpi: int, dots per inch for rendering the PDF\n",
    "    :return: list of bytes, each element is a JPEG image\n",
    "    \"\"\"\n",
    "    # Convert PDF to list of PIL Image objects\n",
    "    images = convert_from_path(pdf_path, dpi=dpi)\n",
    "\n",
    "    image_bytes_list = []\n",
    "\n",
    "    for img in images:\n",
    "        # Resize image if width is specified\n",
    "        if width:\n",
    "            ratio = width / float(img.width)\n",
    "            height = int(ratio * img.height)\n",
    "            img = img.resize((width, height), Image.LANCZOS)\n",
    "\n",
    "        # Convert PIL Image to bytes\n",
    "        img_byte_arr = io.BytesIO()\n",
    "        img.save(img_byte_arr, format=\"JPEG\")\n",
    "        img_byte_arr = img_byte_arr.getvalue()\n",
    "\n",
    "        image_bytes_list.append(img_byte_arr)\n",
    "\n",
    "    return image_bytes_list\n"
   ]
  },
  {
   "cell_type": "code",
   "execution_count": 2,
   "metadata": {},
   "outputs": [],
   "source": [
    "load_dotenv()\n",
    "boto3.setup_default_session()\n",
    "client = AnthropicBedrock()\n",
    "\n",
    "base_prompt = \"\"\"\n",
    "Is this a form? Answer Yes or No. \n",
    "It's only a form if it contains form field boxes.\n",
    "Hand drawn forms, questionnaires and surveys are all valid forms.\n",
    "If it is a form, extract the questions from it using the extract_form_questions tool.\n",
    "If there is no output, explain why.\n",
    "\"\"\"\n",
    "\n",
    "# Read the JSON string from the file\n",
    "with open(\"extract-form-questions.json\", \"r\") as file:\n",
    "    json_string = file.read()\n",
    "\n",
    "extraction_tool = json.loads(json_string)\n",
    "\n",
    "\n",
    "def process_form(image_bytes: List) -> Message:\n",
    "    assert isinstance(\n",
    "        image_bytes, list\n",
    "    ), f\"Input must be a list, {type(image_bytes)} received\"\n",
    "\n",
    "    assert (\n",
    "        len(image_bytes) < 20\n",
    "    ), f\"Can only process forms up to 20 pages, you gave {len(image_bytes)}\"\n",
    "\n",
    "    messages = [\n",
    "        {\n",
    "            \"type\": \"image\",\n",
    "            \"source\": {\n",
    "                \"type\": \"base64\",\n",
    "                \"media_type\": \"image/jpeg\",\n",
    "                \"data\": img,\n",
    "            },\n",
    "        }\n",
    "        for img in image_bytes\n",
    "    ] + [{\"type\": \"text\", \"text\": base_prompt}]\n",
    "\n",
    "    response = client.messages.create(\n",
    "        model=\"anthropic.claude-3-5-sonnet-20240620-v1:0\",\n",
    "        temperature=0.01,\n",
    "        max_tokens=5000,\n",
    "        tools=[extraction_tool],\n",
    "        messages=[{\"role\": \"user\", \"content\": messages}],\n",
    "    )\n",
    "    return response\n"
   ]
  },
  {
   "cell_type": "code",
   "execution_count": 5,
   "metadata": {},
   "outputs": [
    {
     "data": {
      "text/plain": [
       "Message(id='msg_bdrk_01EXkcKsLM56fk8m8ioYjvp7', content=[TextBlock(text='No, this is not a form. The images contain project documentation, planning details, and technical information about a prototype development project. There are no form field boxes or questions that would be typical in a form or questionnaire. \\n\\nThe content includes:\\n\\n1. Project purpose and overview\\n2. User requirements and deliverables\\n3. Project sizing and timeline\\n4. Proposed planning with sprint details\\n5. Technical tasks and considerations\\n6. Team member responsibilities\\n7. Diagrams of the project architecture\\n8. Ideas backlog\\n\\nSince this is not a form, there are no form questions to extract using the extract_form_questions tool. The tool is designed for forms with specific questions and answer fields, which are not present in these project planning and documentation images.', type='text')], model='claude-3-5-sonnet-20240620', role='assistant', stop_reason='end_turn', stop_sequence=None, type='message', usage=Usage(input_tokens=8158, output_tokens=164))"
      ]
     },
     "execution_count": 5,
     "metadata": {},
     "output_type": "execute_result"
    }
   ],
   "source": [
    "image_bytes = pdf_to_image_bytes(\"forms/not_a_form.pdf\", width=800, dpi=300)\n",
    "not_a_response = process_form(image_bytes)\n",
    "not_a_response"
   ]
  },
  {
   "cell_type": "code",
   "execution_count": 6,
   "metadata": {},
   "outputs": [
    {
     "data": {
      "text/plain": [
       "Message(id='msg_bdrk_017QWV4g99eDHjZRzEYMEw8g', content=[TextBlock(text=\"Yes, this is a form. The images show multiple pages of a legal claim form with various fields and boxes for entering information. I'll proceed to extract the questions using the extract_form_questions tool.\", type='text'), ToolUseBlock(id='toolu_bdrk_01Gg6J4mEtrJBf2ZVosJHps2', input={'pages': [{'id': 1, 'question_text': 'Claimant(s) name(s) and address(es) including postcode', 'answer_type': 'address', 'answer_settings': {'input_type': 'uk_address'}}, {'id': 2, 'question_text': 'Defendant(s) name and address(es) including postcode', 'answer_type': 'address', 'answer_settings': {'input_type': 'uk_address'}}, {'id': 3, 'question_text': 'Brief details of claim', 'answer_type': 'text'}, {'id': 4, 'question_text': 'Value', 'answer_type': 'text'}, {'id': 5, 'question_text': 'Amount claimed', 'answer_type': 'number'}, {'id': 6, 'question_text': 'Court fee', 'answer_type': 'number'}, {'id': 7, 'question_text': \"Legal representative's costs\", 'answer_type': 'number'}, {'id': 8, 'question_text': 'You must indicate your preferred County Court Hearing Centre for hearings here (see notes for guidance)', 'answer_type': 'text'}, {'id': 9, 'question_text': 'Do you believe you, or a witness who will give evidence on your behalf, are vulnerable in any way which the court needs to consider?', 'answer_type': 'single_choice', 'options': [{'text': 'Yes. Please explain in what way you or the witness are vulnerable and what steps, support or adjustments you wish the court and the judge to consider.', 'value': 'Yes'}, {'text': 'No', 'value': 'No'}]}, {'id': 10, 'question_text': 'Does, or will, your claim include any issues under the Human Rights Act 1998?', 'answer_type': 'single_choice', 'options': [{'text': 'Yes', 'value': 'Yes'}, {'text': 'No', 'value': 'No'}]}, {'id': 11, 'question_text': 'Particulars of Claim', 'answer_type': 'single_choice', 'options': [{'text': 'attached', 'value': 'attached'}, {'text': 'to follow', 'value': 'to follow'}]}, {'id': 12, 'question_text': 'Statement of truth', 'answer_type': 'single_choice', 'options': [{'text': 'I believe that the facts stated in this claim form and any attached sheets are true.', 'value': 'I believe'}, {'text': 'The claimant believes that the facts stated in this claim form and any attached sheets are true. I am authorised by the claimant to sign this statement.', 'value': 'The claimant believes'}]}, {'id': 13, 'question_text': 'Signature', 'answer_type': 'text'}, {'id': 14, 'question_text': \"Claimant's role\", 'answer_type': 'single_choice', 'options': [{'text': 'Claimant', 'value': 'Claimant'}, {'text': 'Litigation friend (where claimant is a child or protected party)', 'value': 'Litigation friend'}, {'text': \"Claimant's legal representative (as defined by CPR 2.3(1))\", 'value': \"Claimant's legal representative\"}]}, {'id': 15, 'question_text': 'Date', 'answer_type': 'date', 'answer_settings': {'input_type': 'other_date'}}, {'id': 16, 'question_text': 'Full name', 'answer_type': 'name', 'answer_settings': {'input_type': 'full_name'}}, {'id': 17, 'question_text': \"Name of claimant's legal representative's firm\", 'answer_type': 'text'}, {'id': 18, 'question_text': 'If signing on behalf of firm or company give position or office held', 'answer_type': 'text'}, {'id': 19, 'question_text': \"Claimant's or claimant's legal representative's address to which documents should be sent.\", 'answer_type': 'address', 'answer_settings': {'input_type': 'uk_address'}}, {'id': 20, 'question_text': 'Phone number', 'answer_type': 'phone_number'}, {'id': 21, 'question_text': 'DX number', 'answer_type': 'text'}, {'id': 22, 'question_text': 'Your Ref.', 'answer_type': 'text'}, {'id': 23, 'question_text': 'Email', 'answer_type': 'email'}]}, name='extract_form_questions', type='tool_use')], model='claude-3-5-sonnet-20240620', role='assistant', stop_reason='tool_use', stop_sequence=None, type='message', usage=Usage(input_tokens=6966, output_tokens=1499))"
      ]
     },
     "execution_count": 6,
     "metadata": {},
     "output_type": "execute_result"
    }
   ],
   "source": [
    "image_bytes = pdf_to_image_bytes(\"forms/example_form.pdf\", width=800, dpi=300)\n",
    "a_response = process_form(image_bytes)\n",
    "a_response\n"
   ]
  },
  {
   "cell_type": "code",
   "execution_count": 29,
   "metadata": {},
   "outputs": [
    {
     "data": {
      "text/plain": [
       "True"
      ]
     },
     "execution_count": 29,
     "metadata": {},
     "output_type": "execute_result"
    }
   ],
   "source": [
    "def contains_tool_response(response):\n",
    "    \"\"\"determine if the tool was used\"\"\"\n",
    "    return (\n",
    "        isinstance(response.content[1], ToolUseBlock)\n",
    "        if len(response.content) > 1\n",
    "        else False\n",
    "    )\n",
    "\n",
    "\n",
    "def check_tool_response(tool_block):\n",
    "    \"\"\"Determine if the tool block is valid if it has a pages field\"\"\"\n",
    "    return True if tool_block.input.get(\"pages\", False) else False\n",
    "\n",
    "\n",
    "check_tool_response(a_response.content[1])"
   ]
  },
  {
   "cell_type": "code",
   "execution_count": null,
   "metadata": {},
   "outputs": [],
   "source": []
  }
 ],
 "metadata": {
  "kernelspec": {
   "display_name": "form-experiment",
   "language": "python",
   "name": "python3"
  },
  "language_info": {
   "codemirror_mode": {
    "name": "ipython",
    "version": 3
   },
   "file_extension": ".py",
   "mimetype": "text/x-python",
   "name": "python",
   "nbconvert_exporter": "python",
   "pygments_lexer": "ipython3",
   "version": "3.12.4"
  }
 },
 "nbformat": 4,
 "nbformat_minor": 2
}
